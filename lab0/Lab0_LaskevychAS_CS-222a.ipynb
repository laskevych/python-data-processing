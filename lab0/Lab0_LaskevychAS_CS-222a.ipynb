{
 "cells": [
  {
   "cell_type": "code",
   "execution_count": 1,
   "id": "e8717d7c-97d5-4e2d-ac27-b131503b56c5",
   "metadata": {
    "pycharm": {
     "is_executing": true
    }
   },
   "outputs": [
    {
     "data": {
      "text/plain": [
       "('Andrew Laskevych', 'Variant: 6')"
      ]
     },
     "execution_count": 1,
     "metadata": {},
     "output_type": "execute_result"
    }
   ],
   "source": [
    "name = 'Andrew Laskevych'\n",
    "N = ord(name[0].upper()) % 10 + 1\n",
    "var = f\"Variant: {N}\"\n",
    "name, var"
   ]
  },
  {
   "cell_type": "code",
   "execution_count": 2,
   "id": "24a38ee9-720e-4ee5-9238-ee170231961d",
   "metadata": {},
   "outputs": [
    {
     "data": {
      "text/html": [
       "<link href=\"https://cdn.jsdelivr.net/npm/bootstrap@5.3.0/dist/css/bootstrap.min.css\" rel=\"stylesheet\">\n",
       "<script src=\"https://cdn.jsdelivr.net/npm/bootstrap@5.3.0/dist/js/bootstrap.bundle.min.js\"></script>\n",
       "\n",
       "<h1 class=\"fs-1 text-primary-emphasis mx-3 my-3\">\n",
       "    <a class=\"link-info link-offset-2 link-underline-opacity-25 link-underline-opacity-100-hover\"\n",
       "       href=\"https://en.wikipedia.org/wiki/Jordan\">Hashemite Kingdom of Jordan</a>\n",
       "</h1>\n",
       "\n",
       "<div class=\"d-inline-flex flex-row justify-content-start align-items-center my-3 mx-3\">\n",
       "    <div class=\"mx-3\">\n",
       "        <a class=\"fw-semibold link-info link-offset-2 link-underline-opacity-25 link-underline-opacity-75-hover\"\n",
       "           href=\"https://en.wikipedia.org/wiki/Flag_of_Jordan\" target=\"_blank\">\n",
       "            <p class=\"text-start\">Flag</p>\n",
       "            <div>\n",
       "                <svg xmlns=\"http://www.w3.org/2000/svg\" viewBox=\"0 0 840 420\" preserveAspectRatio=\"xMidYMid meet\"\n",
       "                     width=\"100%\" height=\"100%\">\n",
       "                    <rect width=\"840\" height=\"420\" fill=\"#007a3d\"/>\n",
       "                    <rect width=\"840\" height=\"280\" fill=\"#fff\"/>\n",
       "                    <rect width=\"840\" height=\"140\" fill=\"000\"/>\n",
       "                    <path d=\"M0,0V420L280,210z\" fill=\"#ce1126\"/>\n",
       "                    <path d=\"m93.8872,180,6.50825,16.4855,16.9467-5.19016-8.83103,15.3669,14.6239,10.0134-17.5204,\n",
       "                            2.67672,1.28904,17.6767l-13.0168-12.03-13.0165,12.029,1.2891-17.677-17.5204-2.676,\n",
       "                            14.6239-10.014-8.831-15.367,16.9467,5.19,6.5082-16.485z\" fill=\"#fff\"/>\n",
       "                </svg>\n",
       "            </div>\n",
       "        </a>\n",
       "    </div>\n",
       "</div>\n"
      ],
      "text/plain": [
       "<IPython.core.display.HTML object>"
      ]
     },
     "metadata": {},
     "output_type": "display_data"
    }
   ],
   "source": [
    "%%HTML\n",
    "<link href=\"https://cdn.jsdelivr.net/npm/bootstrap@5.3.0/dist/css/bootstrap.min.css\" rel=\"stylesheet\">\n",
    "<script src=\"https://cdn.jsdelivr.net/npm/bootstrap@5.3.0/dist/js/bootstrap.bundle.min.js\"></script>\n",
    "\n",
    "<h1 class=\"fs-1 text-primary-emphasis mx-3 my-3\">\n",
    "    <a class=\"link-info link-offset-2 link-underline-opacity-25 link-underline-opacity-100-hover\"\n",
    "       href=\"https://en.wikipedia.org/wiki/Jordan\">Hashemite Kingdom of Jordan</a>\n",
    "</h1>\n",
    "\n",
    "<div class=\"d-inline-flex flex-row justify-content-start align-items-center my-3 mx-3\">\n",
    "    <div class=\"mx-3\">\n",
    "        <a class=\"fw-semibold link-info link-offset-2 link-underline-opacity-25 link-underline-opacity-75-hover\"\n",
    "           href=\"https://en.wikipedia.org/wiki/Flag_of_Jordan\" target=\"_blank\">\n",
    "            <p class=\"text-start\">Flag</p>\n",
    "            <div>\n",
    "                <svg xmlns=\"http://www.w3.org/2000/svg\" viewBox=\"0 0 840 420\" preserveAspectRatio=\"xMidYMid meet\"\n",
    "                     width=\"100%\" height=\"100%\">\n",
    "                    <rect width=\"840\" height=\"420\" fill=\"#007a3d\"/>\n",
    "                    <rect width=\"840\" height=\"280\" fill=\"#fff\"/>\n",
    "                    <rect width=\"840\" height=\"140\" fill=\"000\"/>\n",
    "                    <path d=\"M0,0V420L280,210z\" fill=\"#ce1126\"/>\n",
    "                    <path d=\"m93.8872,180,6.50825,16.4855,16.9467-5.19016-8.83103,15.3669,14.6239,10.0134-17.5204,\n",
    "                            2.67672,1.28904,17.6767l-13.0168-12.03-13.0165,12.029,1.2891-17.677-17.5204-2.676,\n",
    "                            14.6239-10.014-8.831-15.367,16.9467,5.19,6.5082-16.485z\" fill=\"#fff\"/>\n",
    "                </svg>\n",
    "            </div>\n",
    "        </a>\n",
    "    </div>\n",
    "</div>"
   ]
  },
  {
   "cell_type": "markdown",
   "id": "0b475694-db2f-40e3-bc10-5430e64b951c",
   "metadata": {},
   "source": [
    "### Page content\n",
    "\n",
    "1. Jordan\n",
    "2. Etymology\n",
    "3. Government and politics\n",
    "    1. Largest cities or towns in Jordan\n",
    "        1. Amman\n",
    "        2. Zarqa\n",
    "        3. Irbid\n",
    "        4. Russeifa\n",
    "        5. Ar-Ramtha\n",
    "        6. Aqaba\n",
    "        7. Al-Mafraq\n",
    "        8. Madaba\n",
    "        9. As-Salt\n",
    "        10. Jerash\n",
    "    2. Administrative divisions\n",
    "    3. Foreign relations\n",
    "    4. Military\n",
    "\n",
    "| <span style=\"color: darkred; font-size: 1.5em;\"><b>Hashemite Kingdom of Jordan<b></span> | المملكة الأردنية الهاشمية (Arabic)                                                                                                                                                                            |\n",
    "|------------------------------------------------------------------------------------------|---------------------------------------------------------------------------------------------------------------------------------------------------------------------------------------------------------------|\n",
    "| **Motto:**                                                                               | Allāh, al-Waṭan, al-Malik <br/> \"God, Country, King\"                                                                                                                                                          |\n",
    "| **Anthem:**                                                                              | Al-Salām al-Malakī al-Urdunī <br/> \"[The Royal Anthem of Jordan](https://en.wikipedia.org/wiki/The_Royal_Anthem_of_Jordan)\"                                                                                   |\n",
    "| **Capital** <br> and largest city                                                        | [<span style=\"color: magenta;\">Amman</span>](https://en.wikipedia.org/wiki/Amman) <br> \"31°57′N 35°56′E\"                                                                                                      |\n",
    "| **Official languages**                                                                   | [<span style=\"color: mediumpurple;\">Arabic</span>](https://en.wikipedia.org/wiki/Modern_Standard_Arabic)                                                                                                      |\n",
    "| **Ethnic groups**                                                                        | 95% Arab <br> 3% Circassian, Chechen <br> 2% Armenian and others                                                                                                                                              |\n",
    "| **Religion**                                                                             | 95% Sunni Islam (official) <br> 3% Christianity <br> 1% Druze, Baháʼí Faith <br> 1% others                                                                                                                    |\n",
    "| **Demonym(s)**                                                                           | Jordanian                                                                                                                                                                                                     |\n",
    "| **Government** <ul><li>Monarch</li></ul>                                                 | Unitary parliamentary constitutional monarchy <br> <br>[Abdullah II](https://en.wikipedia.org/wiki/Abdullah_II_of_Jordan)                                                                                     |\n",
    "| **Area** <ul><li>Total</li><li>Water</li></ul>                                           | <br/> <span style=\"color: saddlebrown;\">89,342 km<sup>2</sup> (34,495 mi)</span> (100th) <br/> <span style=\"color: dodgerblue;\">0.6%</span>                                                                   |\n",
    "| **Population** <ul><li>2023 estimate</li><li>2015 census</li><li>Destiny</li></ul>       | <br> 11,484,805 (84th) <br> 9,531,712 <br> 114/km<sup>2</sup> (295.3/sq mi) (70th)                                                                                                                            |\n",
    "| **Gini (2011)**                                                                          | 35.4 <br> <span style=\"color: darkgray;\">medium inequality</span>                                                                                                                                             |\n",
    "| **HDI (2022)**                                                                           | <span><img alt=\"Steady\" src=\"https://upload.wikimedia.org/wikipedia/commons/9/96/Steady2.svg\" decoding=\"async\" width=\"11\" height=\"11\"></span> 0.736 <br> <span style=\"color: forestgreen;\">high</span> (99th) |\n",
    "| **Currency**                                                                             | [Jordanian dinar](https://en.wikipedia.org/wiki/Jordanian_dinar) (JOD)                                                                                                                                        |\n",
    "| **Time zone**                                                                            | UTC+3                                                                                                                                                                                                         |\n",
    "| **Drives on**                                                                            | right                                                                                                                                                                                                         |\n",
    "| **Calling code**                                                                         | +962                                                                                                                                                                                                          |\n",
    "\n",
    "## *Jordan*\n",
    "\n",
    "---\n",
    "\n",
    "<div style=\"border: 1px solid black; padding: 10px;\">\n",
    "    <b>Jordan</b>, officially the <b>Hashemite Kingdom of Jordan</b>, is a country in the Southern Levant region of West Asia. \n",
    "    Jordan is bordered by Syria to the north, Iraq to the east, Saudi Arabia to the south, and Israel and the occupied Palestinian territories to the west. \n",
    "    The Jordan River, flowing into the Dead Sea, is located along the country\\'s western border. \n",
    "    Jordan also has a small coastline along the Red Sea in its southwest, separated by the Gulf of Aqaba from Egypt. \n",
    "    Amman is the country's capital and largest city, as well as the most populous city in the Levant.\n",
    "</div>\n",
    "\n",
    "Modern-day Jordan has been inhabited by humans since the Paleolithic period. Three kingdoms emerged in Transjordan at\n",
    "the end of the Bronze Age: Ammon, Moab and Edom. In the third century BC, the Arab Nabataeans established their kingdom\n",
    "centered in Petra. Later rulers of the Transjordan region include the Assyrian, Babylonian, Roman, Byzantine, Rashidun,\n",
    "Umayyad, Abbasid, and the Ottoman empires. After the 1916 Great Arab Revolt against the Ottomans during World War I, the\n",
    "Greater Syria region was partitioned, leading to the establishment of the Emirate of Transjordan in 1921, which became a\n",
    "British protectorate. In 1946, the country gained independence and became officially known as the Hashemite Kingdom of\n",
    "Jordan. The country captured and annexed the West Bank during the 1948 Arab–Israeli War until it was occupied by Israel\n",
    "in 1967. Jordan renounced its claim to the territory to the Palestinians in 1988, and signed a peace treaty with Israel\n",
    "in 1994.\n",
    "\n",
    "Jordan is a semi-arid country, covering an area of 89,342 km2 (34,495 sq mi), with a population of 11.5 million, making\n",
    "it the eleventh-most populous Arab country. The dominant majority, or around 95% of the country's population, is Sunni\n",
    "Muslim, with the rest being mostly Arab Christian. Jordan was mostly unscathed by the violence that swept the region\n",
    "following the Arab Spring in 2010. From as early as 1948, Jordan has accepted refugees from multiple neighbouring\n",
    "countries in conflict. An estimated 2.1 million Palestinian refugees, most of whom hold Jordanian citizenship, as well\n",
    "as 1.4 million Syrian refugees, were residing in Jordan as of 2015. The kingdom is also a refuge for thousands of\n",
    "Christian Iraqis fleeing persecution. While Jordan continues to accept refugees, the large Syrian influx during the\n",
    "2010s has placed substantial strain on national resources and infrastructure.\n",
    "\n",
    "The sovereign state is a constitutional monarchy, but the king holds wide executive and legislative powers. Jordan is a\n",
    "founding member of the Arab League and the Organisation of Islamic Co-operation. The country has a high Human\n",
    "Development Index, ranking 99th, and is considered a lower middle income economy. The Jordanian economy, one of the\n",
    "smallest economies in the region, is attractive to foreign investors based upon a skilled workforce. The country is a\n",
    "major tourist destination, also attracting medical tourism due to its well developed health sector. Nonetheless, a lack\n",
    "of natural resources, large flow of refugees, and regional turmoil have hampered economic growth.\n",
    "\n",
    "## Etymology\n",
    "\n",
    "***\n",
    "\n",
    "> _See also: [Jordan River § Etymology](https://en.wikipedia.org/wiki/Jordan_River#Etymology)_\n",
    "\n",
    "Jordan takes its name from the Jordan River, which forms much of the country's northwestern border. While several\n",
    "theories for the origin of the river's name have been proposed, it is most plausible that it derives from\n",
    "the [Hebrew](https://en.wikipedia.org/wiki/Hebrew) word _Yarad_ (Hebrew: ירד), meaning \"`the descender`\", reflecting the\n",
    "river's declivity. Much of the area that makes up modern Jordan was historically called [\n",
    "_Transjordan_](https://en.wikipedia.org/wiki/Transjordan_(region)), meaning \"`across the Jordan`\"; the term is used to\n",
    "denote the lands east of the river. [The Hebrew Bible](https://en.wikipedia.org/wiki/Hebrew_Bible) uses the\n",
    "term [Hebrew](https://en.wikipedia.org/wiki/Hebrew_language ): עבר הירדן, romanized: _Ever ha'Yarden_, lit. 'The other\n",
    "side of the Jordan' for the area. Early Arab chronicles call the river [\n",
    "_Al-Urdunn_](https://en.wikipedia.org/wiki/Jund_Al-Urdunn) (a term cognate to the Hebrew Yarden). [_Jund\n",
    "Al-Urdunn_](https://en.wikipedia.org/wiki/Jund_Al-Urdunn) was a military district around the river in the early Islamic\n",
    "era. Later, during the [Crusades](https://en.wikipedia.org/wiki/Kingdom_of_Jerusalem) in the beginning of the second\n",
    "millennium, a lordship was established in the area under the name of [\n",
    "_Oultrejordai_](https://en.wikipedia.org/wiki/Oultrejordain).\n",
    "\n",
    "## Government and politics\n",
    "\n",
    "---\n",
    "\n",
    "> _Main article: [List of cities in Jordan](https://en.wikipedia.org/wiki/List_of_cities_in_Jordan)_\n",
    "\n",
    "### Largest cities or towns in Jordan\n",
    "\n",
    "###### _According to the 2015 Census_\n",
    "\n",
    "1. ##### Amman\n",
    "    * Amman Governorate\n",
    "    * Population (2021):\n",
    "        * Total: 4,061,150\n",
    "        * Density:\n",
    "            * 2,380/km2\n",
    "            * 6,200/sq mi\n",
    "    * Area:\n",
    "        * Total:\n",
    "            * 1,680 km2\n",
    "            * 650 sq mi\n",
    "    * Nicknames:\n",
    "        * The White Pigeon\n",
    "        * The City of Stairs\n",
    "\n",
    "   ![Amman][Amman_image]\n",
    "2. ##### Zarqa\n",
    "    * Zarqa Governorate\n",
    "    * Population (2015):\n",
    "        * Total: 635,160\n",
    "        * Density:\n",
    "            * 11,000/km2\n",
    "            * 27,000/sq mi\n",
    "\n",
    "   ![Zarqa][Zarqa_image]\n",
    "3. ##### Irbid\n",
    "    * Irbid Governorate\n",
    "    * Population (2020):\n",
    "        * City: 569,068\n",
    "        * Density:\n",
    "            * 1,400/km2\n",
    "            * 3,600/sq mi\n",
    "        * Metro:\n",
    "            * 2,003,800\n",
    "    * Area:\n",
    "        * City:\n",
    "            * 410 km2\n",
    "            * 160 sq mi\n",
    "        * Metro:\n",
    "            * 1,572 km2\n",
    "            * 607 sq mi\n",
    "\n",
    "   ![Irbid][Irbid_image]\n",
    "4. ##### Russeifa\n",
    "    * Zarqa Governorate\n",
    "    * Population (2010):\n",
    "        * City: 280,000\n",
    "        * Metro: 500,000\n",
    "        * Metro density:\n",
    "            * 15,000/km2\n",
    "            * 40,000/sq mi\n",
    "\n",
    "   ![Russeifa][Russeifa_image]\n",
    "5. ##### Ar-Ramtha\n",
    "    * Amman Governorate\n",
    "    * Population: 155,693\n",
    "6. ##### Aqaba\n",
    "    * Aqaba Governorate\n",
    "    * Population: 148,398\n",
    "7. ##### Al-Mafraq\n",
    "    * Mafraq Governorate\n",
    "    * Population: 106,008\n",
    "8. ##### Madaba\n",
    "    * Madaba Governorate\n",
    "    * Population: 105,353\n",
    "9. ##### As-Salt\n",
    "    * Balqa Governorate\n",
    "    * Population: 99,890\n",
    "10. ##### Jerash\n",
    "    * Jerash Governorate\n",
    "    * Population: 50,745\n",
    "\n",
    "[Amman_image]: https://upload.wikimedia.org/wikipedia/commons/6/66/Amman.jpg\n",
    "\n",
    "[Zarqa_image]: https://upload.wikimedia.org/wikipedia/commons/4/42/Qurtobah%2C_Az-Zarqa%2C_Jordan_-_panoramio_%283%29.jpg\n",
    "\n",
    "[Irbid_image]: https://upload.wikimedia.org/wikipedia/commons/f/fc/Irbid1.jpg\n",
    "\n",
    "[Russeifa_image]: https://upload.wikimedia.org/wikipedia/commons/e/e4/Ameriyya_District-Russeifa10.jpg\n",
    "\n",
    "### Administrative divisions\n",
    "\n",
    "The first level subdivision in Jordan is the muhafazah or governorate. The governorates are divided into liwa or\n",
    "districts, which are often further subdivided into qda or sub-districts. Control for each administrative unit is in a \"\n",
    "chief town\" (administrative centre) known as a nahia.\n",
    "\n",
    "### Foreign relations\n",
    "\n",
    "The kingdom has followed a pro-Western foreign policy and maintained close relations with the United States and the\n",
    "United Kingdom. During the first Gulf War (1990), these relations were damaged by Jordan's neutrality and its\n",
    "maintenance of relations with Iraq. Later, Jordan restored its relations with Western countries through its\n",
    "participation in the enforcement of UN sanctions against Iraq and in the Southwest Asia peace process. After King\n",
    "Hussein's death in 1999, relations between Jordan and the Persian Gulf countries greatly improved.\n",
    "\n",
    "### Military\n",
    "\n",
    "The first organised army in Jordan was established on 22 October 1920, and was named the \"Arab Legion\". The Legion grew\n",
    "from 150 men in 1920 to 8,000 in 1946. Jordan's capture of the West Bank during the 1948 Arab–Israeli War proved that\n",
    "the Arab Legion, known today as the Jordan Armed Forces, was the most effective among the Arab troops involved in the\n",
    "war. The Royal Jordanian Army, which boasts around 110,000 personnel, is considered to be among the most professional in\n",
    "the region, due to being particularly well-trained and organised. The Jordanian military enjoys strong support and aid\n",
    "from the United States, the United Kingdom and France. This is due to Jordan's critical position in the Middle East. The\n",
    "development of Special Operations Forces has been particularly significant, enhancing the capability of the military to\n",
    "react rapidly to threats to homeland security, as well as training special forces from the region and beyond. Jordan\n",
    "provides extensive training to the security forces of several Arab countries."
   ]
  },
  {
   "cell_type": "code",
   "execution_count": 3,
   "id": "a9d84e8a-7d14-4f78-b74d-a9b8ff5aaa3d",
   "metadata": {},
   "outputs": [],
   "source": [
    "def is_prime(n: int) -> bool:\n",
    "    # If the number is less than 2, it is not prime\n",
    "    if n < 2:\n",
    "        return False\n",
    "\n",
    "    for i in range(2, int(n ** 0.5) + 1):\n",
    "        # If `n` is divisible by `i` without a remainder, then number has a divisor\n",
    "        if n % i == 0:\n",
    "            return False\n",
    "\n",
    "    # If no divisor is found, the number is prime\n",
    "    return True\n",
    "\n",
    "\n",
    "def get_primes():\n",
    "    try:\n",
    "        # Receives the input data in string format\n",
    "        user_input = input().strip()\n",
    "\n",
    "        # Verify that only numbers separated by a single space are present\n",
    "        numbers = user_input.split()\n",
    "\n",
    "        if len(numbers) != 2:\n",
    "            raise ValueError(\"The values must be two integer numbers separated by a space\")\n",
    "\n",
    "        # Parsing the input string into two integers\n",
    "        try:\n",
    "            a, b = int(numbers[0]), int(numbers[1])\n",
    "        except ValueError:\n",
    "            raise ValueError(\"Both values must be integers\")\n",
    "\n",
    "        # Check the value of the interval\n",
    "        if a > b:\n",
    "            raise ValueError(\"The beginning value cannot be greater than the end of the interval\")\n",
    "\n",
    "        # Get prime numbers from a given interval (including bounds)\n",
    "        primes = [i for i in range(a, b + 1) if is_prime(i)]\n",
    "\n",
    "        return primes\n",
    "\n",
    "    except ValueError as ve:\n",
    "        return f\"Wrong value error: {ve}.\"\n",
    "    except Exception as e:\n",
    "        return f\"Unexpected Error: {e}.\"\n"
   ]
  },
  {
   "cell_type": "code",
   "execution_count": 4,
   "id": "909bf961-fc5a-4dbd-8b53-439b1f8265fc",
   "metadata": {},
   "outputs": [
    {
     "name": "stdin",
     "output_type": "stream",
     "text": [
      "   3 15\n"
     ]
    },
    {
     "data": {
      "text/plain": [
       "[3, 5, 7, 11, 13]"
      ]
     },
     "execution_count": 4,
     "metadata": {},
     "output_type": "execute_result"
    }
   ],
   "source": [
    "get_primes()"
   ]
  },
  {
   "cell_type": "code",
   "execution_count": 5,
   "id": "0628bb01-e732-4248-b1f8-7484fac3d43f",
   "metadata": {},
   "outputs": [
    {
     "name": "stdin",
     "output_type": "stream",
     "text": [
      "  -100 +50\n"
     ]
    },
    {
     "data": {
      "text/plain": [
       "[2, 3, 5, 7, 11, 13, 17, 19, 23, 29, 31, 37, 41, 43, 47]"
      ]
     },
     "execution_count": 5,
     "metadata": {},
     "output_type": "execute_result"
    }
   ],
   "source": [
    "get_primes()"
   ]
  },
  {
   "cell_type": "code",
   "execution_count": 6,
   "id": "2baea765-46df-40b4-ba03-43ff86ddd9de",
   "metadata": {},
   "outputs": [
    {
     "name": "stdin",
     "output_type": "stream",
     "text": [
      "  7 23\n"
     ]
    },
    {
     "data": {
      "text/plain": [
       "[7, 11, 13, 17, 19, 23]"
      ]
     },
     "execution_count": 6,
     "metadata": {},
     "output_type": "execute_result"
    }
   ],
   "source": [
    "get_primes()"
   ]
  },
  {
   "cell_type": "code",
   "execution_count": 7,
   "id": "7012e693-9700-4c95-92df-a677df19c104",
   "metadata": {},
   "outputs": [
    {
     "name": "stdin",
     "output_type": "stream",
     "text": [
      "  2 2\n"
     ]
    },
    {
     "data": {
      "text/plain": [
       "[2]"
      ]
     },
     "execution_count": 7,
     "metadata": {},
     "output_type": "execute_result"
    }
   ],
   "source": [
    "get_primes()"
   ]
  },
  {
   "cell_type": "code",
   "execution_count": 8,
   "id": "140dbe07-62e1-4ff4-83f7-1484d0b9e343",
   "metadata": {},
   "outputs": [
    {
     "name": "stdin",
     "output_type": "stream",
     "text": [
      "  8 10\n"
     ]
    },
    {
     "data": {
      "text/plain": [
       "[]"
      ]
     },
     "execution_count": 8,
     "metadata": {},
     "output_type": "execute_result"
    }
   ],
   "source": [
    "get_primes()"
   ]
  },
  {
   "cell_type": "code",
   "execution_count": 9,
   "id": "db1500cb-2822-474d-ba1a-bafc0c61d99a",
   "metadata": {},
   "outputs": [
    {
     "name": "stdin",
     "output_type": "stream",
     "text": [
      "  100 1\n"
     ]
    },
    {
     "data": {
      "text/plain": [
       "'Wrong value error: The beginning value cannot be greater than the end of the interval.'"
      ]
     },
     "execution_count": 9,
     "metadata": {},
     "output_type": "execute_result"
    }
   ],
   "source": [
    "get_primes()"
   ]
  },
  {
   "cell_type": "code",
   "execution_count": 10,
   "id": "0685e316-90b8-4cdc-b4dd-f187e24d5894",
   "metadata": {},
   "outputs": [
    {
     "name": "stdin",
     "output_type": "stream",
     "text": [
      "  10.1 19.8\n"
     ]
    },
    {
     "data": {
      "text/plain": [
       "'Wrong value error: Both values must be integers.'"
      ]
     },
     "execution_count": 10,
     "metadata": {},
     "output_type": "execute_result"
    }
   ],
   "source": [
    "get_primes()"
   ]
  },
  {
   "cell_type": "code",
   "execution_count": 11,
   "id": "de3e534a-b15f-4d82-b4fb-acc03c0db446",
   "metadata": {},
   "outputs": [
    {
     "name": "stdin",
     "output_type": "stream",
     "text": [
      "  0 test\n"
     ]
    },
    {
     "data": {
      "text/plain": [
       "'Wrong value error: Both values must be integers.'"
      ]
     },
     "execution_count": 11,
     "metadata": {},
     "output_type": "execute_result"
    }
   ],
   "source": [
    "get_primes()"
   ]
  },
  {
   "cell_type": "code",
   "execution_count": 12,
   "id": "eb81cb10-24a0-4ceb-9b84-5556c54225ae",
   "metadata": {},
   "outputs": [
    {
     "name": "stdin",
     "output_type": "stream",
     "text": [
      " 9\n"
     ]
    },
    {
     "data": {
      "text/plain": [
       "'Wrong value error: The values must be two integer numbers separated by a space.'"
      ]
     },
     "execution_count": 12,
     "metadata": {},
     "output_type": "execute_result"
    }
   ],
   "source": [
    "get_primes()"
   ]
  },
  {
   "cell_type": "code",
   "execution_count": 13,
   "id": "c98caa56-9966-4eae-ac3f-c24547b96b01",
   "metadata": {},
   "outputs": [
    {
     "name": "stdin",
     "output_type": "stream",
     "text": [
      " \n"
     ]
    },
    {
     "data": {
      "text/plain": [
       "'Wrong value error: The values must be two integer numbers separated by a space.'"
      ]
     },
     "execution_count": 13,
     "metadata": {},
     "output_type": "execute_result"
    }
   ],
   "source": [
    "get_primes()"
   ]
  }
 ],
 "metadata": {
  "kernelspec": {
   "display_name": "Python 3 (ipykernel)",
   "language": "python",
   "name": "python3"
  },
  "language_info": {
   "codemirror_mode": {
    "name": "ipython",
    "version": 3
   },
   "file_extension": ".py",
   "mimetype": "text/x-python",
   "name": "python",
   "nbconvert_exporter": "python",
   "pygments_lexer": "ipython3",
   "version": "3.12.5"
  }
 },
 "nbformat": 4,
 "nbformat_minor": 5
}
